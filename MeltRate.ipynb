{
 "cells": [
  {
   "cell_type": "markdown",
   "id": "ecc44fa4-6561-49ee-83c2-738b02743ca9",
   "metadata": {},
   "source": [
    "# Generating Melt Rate"
   ]
  },
  {
   "cell_type": "markdown",
   "id": "350e2278-fe78-4824-b919-99b4b21c1b92",
   "metadata": {},
   "source": [
    "This notebook is for generating the mm/hr rainfall rate that is needed for OverlandFlow. "
   ]
  },
  {
   "cell_type": "code",
   "execution_count": null,
   "id": "518ed748-e375-40b9-ac47-63f6ceca6f78",
   "metadata": {},
   "outputs": [],
   "source": []
  }
 ],
 "metadata": {
  "kernelspec": {
   "display_name": "CSDMS",
   "language": "python",
   "name": "csdms-2023"
  },
  "language_info": {
   "codemirror_mode": {
    "name": "ipython",
    "version": 3
   },
   "file_extension": ".py",
   "mimetype": "text/x-python",
   "name": "python",
   "nbconvert_exporter": "python",
   "pygments_lexer": "ipython3",
   "version": "3.9.16"
  }
 },
 "nbformat": 4,
 "nbformat_minor": 5
}
