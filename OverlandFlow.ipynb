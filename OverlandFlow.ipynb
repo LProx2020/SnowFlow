{
 "cells": [
  {
   "cell_type": "markdown",
   "id": "ecc44fa4-6561-49ee-83c2-738b02743ca9",
   "metadata": {},
   "source": [
    "# OverlandFlow"
   ]
  },
  {
   "cell_type": "code",
   "execution_count": null,
   "id": "434e5230-3b0f-48aa-9a3b-752f2328e980",
   "metadata": {},
   "outputs": [],
   "source": []
  }
 ],
 "metadata": {
  "kernelspec": {
   "display_name": "CSDMS",
   "language": "python",
   "name": "csdms-2023"
  },
  "language_info": {
   "codemirror_mode": {
    "name": "ipython",
    "version": 3
   },
   "file_extension": ".py",
   "mimetype": "text/x-python",
   "name": "python",
   "nbconvert_exporter": "python",
   "pygments_lexer": "ipython3",
   "version": "3.9.16"
  }
 },
 "nbformat": 4,
 "nbformat_minor": 5
}
